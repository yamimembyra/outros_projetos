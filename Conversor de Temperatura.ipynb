{
  "nbformat": 4,
  "nbformat_minor": 0,
  "metadata": {
    "colab": {
      "provenance": [],
      "authorship_tag": "ABX9TyNE4aWGdOoOb+V3jmxUt1rG",
      "include_colab_link": true
    },
    "kernelspec": {
      "name": "python3",
      "display_name": "Python 3"
    },
    "language_info": {
      "name": "python"
    }
  },
  "cells": [
    {
      "cell_type": "markdown",
      "metadata": {
        "id": "view-in-github",
        "colab_type": "text"
      },
      "source": [
        "<a href=\"https://colab.research.google.com/github/yamimembyra/outros_projetos/blob/main/Conversor%20de%20Temperatura.ipynb\" target=\"_parent\"><img src=\"https://colab.research.google.com/assets/colab-badge.svg\" alt=\"Open In Colab\"/></a>"
      ]
    },
    {
      "cell_type": "code",
      "execution_count": 1,
      "metadata": {
        "colab": {
          "base_uri": "https://localhost:8080/"
        },
        "id": "zRE0fa_aYzOe",
        "outputId": "0b75032e-5630-494a-c005-a6a86037607d"
      },
      "outputs": [
        {
          "output_type": "stream",
          "name": "stdout",
          "text": [
            "Digite a temperatura desejada: 40\n",
            "Digite a escala original da temperatura informada: C\n",
            "Digite a escala para a qual deseja-se converter a temperatura: F\n",
            "A temperatura 40.0 Celsius equivale a 104.0 Fahrenheit.\n"
          ]
        }
      ],
      "source": [
        "temperatura = float(input(\"Digite a temperatura desejada: \"))\n",
        "\n",
        "escala_original = input(\"Digite a escala original da temperatura informada: \")\n",
        "escala_convertida = input(\"Digite a escala para a qual deseja-se converter a temperatura: \")\n",
        "\n",
        "if escala_original == 'C' and escala_convertida == 'F':\n",
        "    temp_f = (temperatura * 9/5) + 32\n",
        "    print(f\"A temperatura {temperatura} Celsius equivale a {temp_f} Fahrenheit.\")\n",
        "elif escala_original == 'C' and escala_convertida == 'K':\n",
        "    temp_k = temperatura + 273.15\n",
        "    print(f\"A temperatura {temperatura} Celsius equivale a {temp_k} Kelvin.\")\n",
        "elif escala_original == 'F' and escala_convertida == 'C':\n",
        "    temp_c = (temperatura - 32) * 5/9\n",
        "    print(f\"A temperatura {temperatura} Fahrenheit equivale a {temp_c} Celsius.\")\n",
        "elif escala_original == 'F' and escala_convertida == 'K':\n",
        "    temp_k = (temperatura - 32) * 5/9 + 273.15\n",
        "    print(f\"A temperatura {temperatura} Fahrenheit equivale a {temp_k} Kelvin.\")\n",
        "elif escala_original == 'K' and escala_convertida == 'C':\n",
        "    temp_c = temp_k - 273.15\n",
        "    print(f\"A temperatura {temperatura} Kelvin equivale a {temp_c} Celsius.\")\n",
        "elif escala_original == 'K' and escala_convertida == 'F':\n",
        "    temp_f = (temp_k - 273.15) * 9/5 + 32\n",
        "    print(f\"A temperatura {temperatura} Kelvin equivale a {temp_f} Fahrenheit.\")\n",
        "else:\n",
        "    print(\"Escala inválida!\")"
      ]
    }
  ]
}